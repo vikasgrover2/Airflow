{
 "cells": [
  {
   "cell_type": "code",
   "execution_count": 1,
   "id": "bd917eea",
   "metadata": {},
   "outputs": [],
   "source": [
    "list1 = [1,2,3,41,42,43,56,57]"
   ]
  },
  {
   "cell_type": "code",
   "execution_count": 2,
   "id": "06603308",
   "metadata": {},
   "outputs": [
    {
     "data": {
      "text/plain": [
       "<map at 0x7fe4742ebe50>"
      ]
     },
     "execution_count": 2,
     "metadata": {},
     "output_type": "execute_result"
    }
   ],
   "source": [
    "map(lambda x: x**3, list1)"
   ]
  },
  {
   "cell_type": "code",
   "execution_count": 3,
   "id": "270884f0",
   "metadata": {},
   "outputs": [
    {
     "data": {
      "text/plain": [
       "[1, 8, 27, 68921, 74088, 79507, 175616, 185193]"
      ]
     },
     "execution_count": 3,
     "metadata": {},
     "output_type": "execute_result"
    }
   ],
   "source": [
    "list(map(lambda x: x**3, list1))"
   ]
  },
  {
   "cell_type": "code",
   "execution_count": 4,
   "id": "813d7339",
   "metadata": {},
   "outputs": [
    {
     "data": {
      "text/plain": [
       "<zip at 0x7fe474322000>"
      ]
     },
     "execution_count": 4,
     "metadata": {},
     "output_type": "execute_result"
    }
   ],
   "source": [
    "zip(list1, list(map(lambda x: x**3, list1)))"
   ]
  },
  {
   "cell_type": "markdown",
   "id": "d634e5f0",
   "metadata": {},
   "source": [
    "Map the cube function to list1 then convert the output to a list. Finally take the list and zip it with the original \n",
    "list as k,v pairs in a dict"
   ]
  },
  {
   "cell_type": "code",
   "execution_count": 5,
   "id": "6d1a1250",
   "metadata": {},
   "outputs": [
    {
     "data": {
      "text/plain": [
       "{1: 1, 2: 8, 3: 27, 41: 68921, 42: 74088, 43: 79507, 56: 175616, 57: 185193}"
      ]
     },
     "execution_count": 5,
     "metadata": {},
     "output_type": "execute_result"
    }
   ],
   "source": [
    "dict(zip(list1, list(map(lambda x: x**3, list1)))) "
   ]
  }
 ],
 "metadata": {
  "kernelspec": {
   "display_name": "Python 3 (ipykernel)",
   "language": "python",
   "name": "python3"
  },
  "language_info": {
   "codemirror_mode": {
    "name": "ipython",
    "version": 3
   },
   "file_extension": ".py",
   "mimetype": "text/x-python",
   "name": "python",
   "nbconvert_exporter": "python",
   "pygments_lexer": "ipython3",
   "version": "3.10.6"
  }
 },
 "nbformat": 4,
 "nbformat_minor": 5
}
