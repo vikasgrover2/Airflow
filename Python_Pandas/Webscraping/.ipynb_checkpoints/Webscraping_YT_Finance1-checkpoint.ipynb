{
 "cells": [
  {
   "cell_type": "markdown",
   "id": "aef3b790",
   "metadata": {},
   "source": [
    "Beginning a webscraping project to Download financial data for a ticker. Once the data is available, the data will be loaded to pandas/ pandasai and plotted in matplotlyb as well as Rath"
   ]
  },
  {
   "cell_type": "code",
   "execution_count": null,
   "id": "80e9b0c5",
   "metadata": {},
   "outputs": [],
   "source": []
  }
 ],
 "metadata": {
  "kernelspec": {
   "display_name": "Python 3 (ipykernel)",
   "language": "python",
   "name": "python3"
  },
  "language_info": {
   "codemirror_mode": {
    "name": "ipython",
    "version": 3
   },
   "file_extension": ".py",
   "mimetype": "text/x-python",
   "name": "python",
   "nbconvert_exporter": "python",
   "pygments_lexer": "ipython3",
   "version": "3.10.6"
  }
 },
 "nbformat": 4,
 "nbformat_minor": 5
}
