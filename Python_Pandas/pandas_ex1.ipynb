{
 "cells": [
  {
   "cell_type": "code",
   "execution_count": 3,
   "id": "19a6c7d9",
   "metadata": {},
   "outputs": [],
   "source": [
    "import pandas as pd"
   ]
  },
  {
   "cell_type": "code",
   "execution_count": 4,
   "id": "8804c1e1",
   "metadata": {},
   "outputs": [
    {
     "data": {
      "text/plain": [
       "0    10\n",
       "1    20\n",
       "2    30\n",
       "3    40\n",
       "4    50\n",
       "dtype: int64"
      ]
     },
     "execution_count": 4,
     "metadata": {},
     "output_type": "execute_result"
    }
   ],
   "source": [
    "pd.Series([10,20,30,40,50])"
   ]
  },
  {
   "cell_type": "code",
   "execution_count": 5,
   "id": "dff3e299",
   "metadata": {},
   "outputs": [],
   "source": [
    "my_index = ['a', 'b','c','d','e']"
   ]
  },
  {
   "cell_type": "code",
   "execution_count": 13,
   "id": "39459208",
   "metadata": {},
   "outputs": [],
   "source": [
    "myseries = pd.Series(data = [10,20,30,40,50], index= my_index, dtype = float)"
   ]
  },
  {
   "cell_type": "code",
   "execution_count": 14,
   "id": "d82f0e27",
   "metadata": {},
   "outputs": [
    {
     "data": {
      "text/plain": [
       "a    10.0\n",
       "b    20.0\n",
       "c    30.0\n",
       "d    40.0\n",
       "e    50.0\n",
       "dtype: float64"
      ]
     },
     "execution_count": 14,
     "metadata": {},
     "output_type": "execute_result"
    }
   ],
   "source": [
    "myseries"
   ]
  },
  {
   "cell_type": "code",
   "execution_count": 15,
   "id": "8cd7f56c",
   "metadata": {},
   "outputs": [
    {
     "data": {
      "text/plain": [
       "[Index(['a', 'b', 'c', 'd', 'e'], dtype='object')]"
      ]
     },
     "execution_count": 15,
     "metadata": {},
     "output_type": "execute_result"
    }
   ],
   "source": [
    "myseries.axes"
   ]
  },
  {
   "cell_type": "code",
   "execution_count": 17,
   "id": "97feaa60",
   "metadata": {},
   "outputs": [
    {
     "data": {
      "text/plain": [
       "dtype('float64')"
      ]
     },
     "execution_count": 17,
     "metadata": {},
     "output_type": "execute_result"
    }
   ],
   "source": [
    "myseries.dtypes"
   ]
  },
  {
   "cell_type": "code",
   "execution_count": 18,
   "id": "2e41f252",
   "metadata": {},
   "outputs": [
    {
     "data": {
      "text/plain": [
       "5"
      ]
     },
     "execution_count": 18,
     "metadata": {},
     "output_type": "execute_result"
    }
   ],
   "source": [
    "myseries.size"
   ]
  },
  {
   "cell_type": "code",
   "execution_count": 19,
   "id": "a587317a",
   "metadata": {},
   "outputs": [
    {
     "data": {
      "text/plain": [
       "1"
      ]
     },
     "execution_count": 19,
     "metadata": {},
     "output_type": "execute_result"
    }
   ],
   "source": [
    "myseries.ndim"
   ]
  },
  {
   "cell_type": "code",
   "execution_count": 20,
   "id": "0436ff6e",
   "metadata": {},
   "outputs": [
    {
     "data": {
      "text/plain": [
       "a    10.0\n",
       "b    20.0\n",
       "dtype: float64"
      ]
     },
     "execution_count": 20,
     "metadata": {},
     "output_type": "execute_result"
    }
   ],
   "source": [
    "myseries.head(2)"
   ]
  },
  {
   "cell_type": "code",
   "execution_count": 21,
   "id": "85102f82",
   "metadata": {},
   "outputs": [
    {
     "data": {
      "text/plain": [
       "c    30.0\n",
       "d    40.0\n",
       "e    50.0\n",
       "dtype: float64"
      ]
     },
     "execution_count": 21,
     "metadata": {},
     "output_type": "execute_result"
    }
   ],
   "source": [
    "myseries.tail(3)"
   ]
  },
  {
   "cell_type": "code",
   "execution_count": 22,
   "id": "8a9c2a0e",
   "metadata": {},
   "outputs": [
    {
     "data": {
      "text/plain": [
       "a    False\n",
       "b    False\n",
       "c    False\n",
       "d     True\n",
       "e     True\n",
       "dtype: bool"
      ]
     },
     "execution_count": 22,
     "metadata": {},
     "output_type": "execute_result"
    }
   ],
   "source": [
    "myseries.gt(30)"
   ]
  },
  {
   "cell_type": "code",
   "execution_count": 24,
   "id": "a05fc825",
   "metadata": {},
   "outputs": [
    {
     "data": {
      "text/plain": [
       "d    40.0\n",
       "e    50.0\n",
       "dtype: float64"
      ]
     },
     "execution_count": 24,
     "metadata": {},
     "output_type": "execute_result"
    }
   ],
   "source": [
    "myseries[myseries.gt(30)]"
   ]
  },
  {
   "cell_type": "code",
   "execution_count": null,
   "id": "8dc9a3eb",
   "metadata": {},
   "outputs": [],
   "source": []
  }
 ],
 "metadata": {
  "kernelspec": {
   "display_name": "Python 3 (ipykernel)",
   "language": "python",
   "name": "python3"
  },
  "language_info": {
   "codemirror_mode": {
    "name": "ipython",
    "version": 3
   },
   "file_extension": ".py",
   "mimetype": "text/x-python",
   "name": "python",
   "nbconvert_exporter": "python",
   "pygments_lexer": "ipython3",
   "version": "3.10.6"
  }
 },
 "nbformat": 4,
 "nbformat_minor": 5
}
